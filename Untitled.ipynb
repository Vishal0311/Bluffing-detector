{
 "cells": [
  {
   "cell_type": "code",
   "execution_count": 1,
   "id": "ee890fb8",
   "metadata": {},
   "outputs": [],
   "source": [
    "import numpy as np\n",
    "import pandas as pd\n",
    "import matplotlib.pyplot as plt"
   ]
  },
  {
   "cell_type": "code",
   "execution_count": null,
   "id": "e9a45ee8",
   "metadata": {},
   "outputs": [],
   "source": []
  },
  {
   "cell_type": "code",
   "execution_count": 23,
   "id": "8f18d9dc",
   "metadata": {},
   "outputs": [],
   "source": [
    "df = pd.read_csv('Position_Salaries.csv')"
   ]
  },
  {
   "cell_type": "code",
   "execution_count": 24,
   "id": "9a899c0f",
   "metadata": {},
   "outputs": [
    {
     "data": {
      "text/html": [
       "<div>\n",
       "<style scoped>\n",
       "    .dataframe tbody tr th:only-of-type {\n",
       "        vertical-align: middle;\n",
       "    }\n",
       "\n",
       "    .dataframe tbody tr th {\n",
       "        vertical-align: top;\n",
       "    }\n",
       "\n",
       "    .dataframe thead th {\n",
       "        text-align: right;\n",
       "    }\n",
       "</style>\n",
       "<table border=\"1\" class=\"dataframe\">\n",
       "  <thead>\n",
       "    <tr style=\"text-align: right;\">\n",
       "      <th></th>\n",
       "      <th>Position</th>\n",
       "      <th>Level</th>\n",
       "      <th>Salary</th>\n",
       "    </tr>\n",
       "  </thead>\n",
       "  <tbody>\n",
       "    <tr>\n",
       "      <th>0</th>\n",
       "      <td>Business Analyst</td>\n",
       "      <td>1</td>\n",
       "      <td>45000</td>\n",
       "    </tr>\n",
       "    <tr>\n",
       "      <th>1</th>\n",
       "      <td>Junior Consultant</td>\n",
       "      <td>2</td>\n",
       "      <td>50000</td>\n",
       "    </tr>\n",
       "    <tr>\n",
       "      <th>2</th>\n",
       "      <td>Senior Consultant</td>\n",
       "      <td>3</td>\n",
       "      <td>60000</td>\n",
       "    </tr>\n",
       "    <tr>\n",
       "      <th>3</th>\n",
       "      <td>Manager</td>\n",
       "      <td>4</td>\n",
       "      <td>80000</td>\n",
       "    </tr>\n",
       "    <tr>\n",
       "      <th>4</th>\n",
       "      <td>Country Manager</td>\n",
       "      <td>5</td>\n",
       "      <td>110000</td>\n",
       "    </tr>\n",
       "  </tbody>\n",
       "</table>\n",
       "</div>"
      ],
      "text/plain": [
       "            Position  Level  Salary\n",
       "0   Business Analyst      1   45000\n",
       "1  Junior Consultant      2   50000\n",
       "2  Senior Consultant      3   60000\n",
       "3            Manager      4   80000\n",
       "4    Country Manager      5  110000"
      ]
     },
     "execution_count": 24,
     "metadata": {},
     "output_type": "execute_result"
    }
   ],
   "source": [
    "df.head()"
   ]
  },
  {
   "cell_type": "code",
   "execution_count": 25,
   "id": "deed7a62",
   "metadata": {},
   "outputs": [
    {
     "data": {
      "text/plain": [
       "(10, 3)"
      ]
     },
     "execution_count": 25,
     "metadata": {},
     "output_type": "execute_result"
    }
   ],
   "source": [
    "df.shape"
   ]
  },
  {
   "cell_type": "markdown",
   "id": "93740baf",
   "metadata": {},
   "source": [
    "### This dataset contains 3 column{Position,Level,Salary} and since level is equivalent to Position, Therefore we don't really need Position"
   ]
  },
  {
   "cell_type": "markdown",
   "id": "d419ea5c",
   "metadata": {},
   "source": [
    "### We will extract dependent and independent variable"
   ]
  },
  {
   "cell_type": "markdown",
   "id": "8a686a97",
   "metadata": {},
   "source": [
    "### the function iloc has syntax as:  dataframe[row,column]   Also it is written as:  dataframe[rowStart:rowEnd,columnStart:columnEnd]\n",
    "\n",
    "### -1 represent the last coloumn/row"
   ]
  },
  {
   "cell_type": "code",
   "execution_count": 39,
   "id": "21b4ae7b",
   "metadata": {},
   "outputs": [],
   "source": [
    "## independent feature\n",
    "x=df.iloc[:,1:-1].values\n",
    "\n",
    "## dependent feature\n",
    "y=df.iloc[:,2].values"
   ]
  },
  {
   "cell_type": "code",
   "execution_count": 37,
   "id": "e8f80fee",
   "metadata": {},
   "outputs": [
    {
     "data": {
      "text/plain": [
       "array([[ 1],\n",
       "       [ 2],\n",
       "       [ 3],\n",
       "       [ 4],\n",
       "       [ 5],\n",
       "       [ 6],\n",
       "       [ 7],\n",
       "       [ 8],\n",
       "       [ 9],\n",
       "       [10]], dtype=int64)"
      ]
     },
     "execution_count": 37,
     "metadata": {},
     "output_type": "execute_result"
    }
   ],
   "source": [
    "x"
   ]
  },
  {
   "cell_type": "code",
   "execution_count": 38,
   "id": "6330da68",
   "metadata": {},
   "outputs": [
    {
     "data": {
      "text/plain": [
       "array([  45000,   50000,   60000,   80000,  110000,  150000,  200000,\n",
       "        300000,  500000, 1000000], dtype=int64)"
      ]
     },
     "execution_count": 38,
     "metadata": {},
     "output_type": "execute_result"
    }
   ],
   "source": [
    "y"
   ]
  },
  {
   "cell_type": "markdown",
   "id": "4dfbd8b9",
   "metadata": {},
   "source": [
    "### Now, we will build and fit the Linear regression model to the dataset. In building polynomial regression, we will take the Linear regression model as reference and compare both the results."
   ]
  },
  {
   "cell_type": "code",
   "execution_count": 40,
   "id": "60ecd606",
   "metadata": {},
   "outputs": [],
   "source": [
    "#Fitting the Linear Regression to the dataset  \n",
    "\n",
    "from sklearn.linear_model import LinearRegression"
   ]
  },
  {
   "cell_type": "code",
   "execution_count": 46,
   "id": "93b99080",
   "metadata": {},
   "outputs": [
    {
     "data": {
      "text/plain": [
       "LinearRegression()"
      ]
     },
     "execution_count": 46,
     "metadata": {},
     "output_type": "execute_result"
    }
   ],
   "source": [
    "lin_regs=LinearRegression()\n",
    "lin_regs.fit(x,y)"
   ]
  },
  {
   "cell_type": "markdown",
   "id": "84430b23",
   "metadata": {},
   "source": []
  },
  {
   "cell_type": "code",
   "execution_count": 47,
   "id": "26b54ed4",
   "metadata": {},
   "outputs": [],
   "source": [
    "## fitting the Polynomial regression to the dataset\n",
    "\n",
    "from sklearn.preprocessing import PolynomialFeatures"
   ]
  },
  {
   "cell_type": "code",
   "execution_count": 48,
   "id": "bacec39f",
   "metadata": {},
   "outputs": [],
   "source": [
    "poly_regs=PolynomialFeatures(degree=2)"
   ]
  },
  {
   "cell_type": "code",
   "execution_count": 50,
   "id": "c1133e48",
   "metadata": {},
   "outputs": [
    {
     "data": {
      "text/plain": [
       "LinearRegression()"
      ]
     },
     "execution_count": 50,
     "metadata": {},
     "output_type": "execute_result"
    }
   ],
   "source": [
    "x_poly=poly_regs.fit_transform(x)\n",
    "lin_regs2=LinearRegression()\n",
    "lin_regs2.fit(x_poly,y)"
   ]
  },
  {
   "cell_type": "code",
   "execution_count": 51,
   "id": "d64b1c35",
   "metadata": {},
   "outputs": [
    {
     "data": {
      "text/plain": [
       "array([[  1.,   1.,   1.],\n",
       "       [  1.,   2.,   4.],\n",
       "       [  1.,   3.,   9.],\n",
       "       [  1.,   4.,  16.],\n",
       "       [  1.,   5.,  25.],\n",
       "       [  1.,   6.,  36.],\n",
       "       [  1.,   7.,  49.],\n",
       "       [  1.,   8.,  64.],\n",
       "       [  1.,   9.,  81.],\n",
       "       [  1.,  10., 100.]])"
      ]
     },
     "execution_count": 51,
     "metadata": {},
     "output_type": "execute_result"
    }
   ],
   "source": [
    "x_poly"
   ]
  },
  {
   "cell_type": "markdown",
   "id": "f9575f2b",
   "metadata": {},
   "source": [
    "### we have used poly_regs.fit_transform(x), because first we are converting our feature matrix into polynomial feature matrix, and then fitting it to the Polynomial regression model."
   ]
  },
  {
   "cell_type": "markdown",
   "id": "86a6fbca",
   "metadata": {},
   "source": [
    "### Visualize the result for linear regression"
   ]
  },
  {
   "cell_type": "code",
   "execution_count": 54,
   "id": "719f0071",
   "metadata": {},
   "outputs": [
    {
     "data": {
      "image/png": "[encoded data removed]",
      "text/plain": [
       "<Figure size 432x288 with 1 Axes>"
      ]
     },
     "metadata": {
      "needs_background": "light"
     },
     "output_type": "display_data"
    }
   ],
   "source": [
    "plt.scatter(x,y,color='blue')\n",
    "plt.plot(x,lin_regs.predict(x),color='red')\n",
    "plt.title(\"Bluff detection model (Linear Regression)\")\n",
    "plt.xlabel(\"Position Label\")\n",
    "plt.ylabel(\"Salary\")\n",
    "plt.show()"
   ]
  },
  {
   "cell_type": "markdown",
   "id": "1e8db6cb",
   "metadata": {},
   "source": [
    "### In the above output image, we can clearly see that the regression line is so far from the datasets. Predictions are in a red straight line, and blue points are actual values. "
   ]
  },
  {
   "cell_type": "code",
   "execution_count": null,
   "id": "4686cab7",
   "metadata": {},
   "outputs": [],
   "source": []
  },
  {
   "cell_type": "markdown",
   "id": "1c45b7cd",
   "metadata": {},
   "source": [
    "### Visualize the result for Polynomial regression"
   ]
  },
  {
   "cell_type": "code",
   "execution_count": 57,
   "id": "6182a8ae",
   "metadata": {},
   "outputs": [
    {
     "data": {
      "image/png": "[encoded data removed]",
      "text/plain": [
       "<Figure size 432x288 with 1 Axes>"
      ]
     },
     "metadata": {
      "needs_background": "light"
     },
     "output_type": "display_data"
    }
   ],
   "source": [
    "plt.scatter(x,y,color=\"blue\")  \n",
    "plt.plot(x, lin_regs2.predict(poly_regs.fit_transform(x)), color=\"red\")  \n",
    "plt.title(\"Bluff detection model(Polynomial Regression)\")  \n",
    "plt.xlabel(\"Position Levels\")  \n",
    "plt.ylabel(\"Salary\")  \n",
    "plt.show()  "
   ]
  },
  {
   "cell_type": "markdown",
   "id": "83f1a27a",
   "metadata": {},
   "source": [
    "### As we can see in the above output image, the predictions are close to the real values. The above plot will vary as we will change the degree. Let's change the degree and see which best fits the graph"
   ]
  },
  {
   "cell_type": "code",
   "execution_count": 58,
   "id": "c6b9f8bd",
   "metadata": {},
   "outputs": [
    {
     "data": {
      "text/plain": [
       "LinearRegression()"
      ]
     },
     "execution_count": 58,
     "metadata": {},
     "output_type": "execute_result"
    }
   ],
   "source": [
    "poly_regs=PolynomialFeatures(degree=3)\n",
    "x_poly=poly_regs.fit_transform(x)\n",
    "lin_regs2=LinearRegression()\n",
    "lin_regs2.fit(x_poly,y)"
   ]
  },
  {
   "cell_type": "code",
   "execution_count": 59,
   "id": "ccd39d36",
   "metadata": {},
   "outputs": [
    {
     "data": {
      "image/png": "[encoded data removed]",
      "text/plain": [
       "<Figure size 432x288 with 1 Axes>"
      ]
     },
     "metadata": {
      "needs_background": "light"
     },
     "output_type": "display_data"
    }
   ],
   "source": [
    "plt.scatter(x,y,color=\"blue\")  \n",
    "plt.plot(x, lin_regs2.predict(poly_regs.fit_transform(x)), color=\"red\")  \n",
    "plt.title(\"Bluff detection model(Polynomial Regression)\")  \n",
    "plt.xlabel(\"Position Levels\")  \n",
    "plt.ylabel(\"Salary\")  \n",
    "plt.show()  "
   ]
  },
  {
   "cell_type": "code",
   "execution_count": 61,
   "id": "87a1577e",
   "metadata": {},
   "outputs": [
    {
     "data": {
      "text/plain": [
       "LinearRegression()"
      ]
     },
     "execution_count": 61,
     "metadata": {},
     "output_type": "execute_result"
    }
   ],
   "source": [
    "poly_regs=PolynomialFeatures(degree=4)\n",
    "x_poly=poly_regs.fit_transform(x)\n",
    "lin_regs2=LinearRegression()\n",
    "lin_regs2.fit(x_poly,y)"
   ]
  },
  {
   "cell_type": "code",
   "execution_count": 62,
   "id": "dd77c393",
   "metadata": {},
   "outputs": [
    {
     "data": {
      "image/png": "[encoded data removed]",
      "text/plain": [
       "<Figure size 432x288 with 1 Axes>"
      ]
     },
     "metadata": {
      "needs_background": "light"
     },
     "output_type": "display_data"
    }
   ],
   "source": [
    "plt.scatter(x,y,color=\"blue\")  \n",
    "plt.plot(x, lin_regs2.predict(poly_regs.fit_transform(x)), color=\"red\")  \n",
    "plt.title(\"Bluff detection model(Polynomial Regression)\")  \n",
    "plt.xlabel(\"Position Levels\")  \n",
    "plt.ylabel(\"Salary\")  \n",
    "plt.show()  "
   ]
  },
  {
   "cell_type": "code",
   "execution_count": 63,
   "id": "17fb3122",
   "metadata": {},
   "outputs": [
    {
     "data": {
      "text/plain": [
       "LinearRegression()"
      ]
     },
     "execution_count": 63,
     "metadata": {},
     "output_type": "execute_result"
    }
   ],
   "source": [
    "poly_regs=PolynomialFeatures(degree=5)\n",
    "x_poly=poly_regs.fit_transform(x)\n",
    "lin_regs2=LinearRegression()\n",
    "lin_regs2.fit(x_poly,y)"
   ]
  },
  {
   "cell_type": "code",
   "execution_count": 64,
   "id": "b37eeeb3",
   "metadata": {},
   "outputs": [
    {
     "data": {
      "image/png": "[encoded data removed]",
      "text/plain": [
       "<Figure size 432x288 with 1 Axes>"
      ]
     },
     "metadata": {
      "needs_background": "light"
     },
     "output_type": "display_data"
    }
   ],
   "source": [
    "plt.scatter(x,y,color=\"blue\")  \n",
    "plt.plot(x, lin_regs2.predict(poly_regs.fit_transform(x)), color=\"red\")  \n",
    "plt.title(\"Bluff detection model(Polynomial Regression)\")  \n",
    "plt.xlabel(\"Position Levels\")  \n",
    "plt.ylabel(\"Salary\")  \n",
    "plt.show()  "
   ]
  },
  {
   "cell_type": "code",
   "execution_count": 65,
   "id": "abbf82bb",
   "metadata": {},
   "outputs": [
    {
     "name": "stdout",
     "output_type": "stream",
     "text": [
      "[330378.78787879]\n"
     ]
    }
   ],
   "source": [
    "lin_pred = lin_regs.predict([[6.5]])  \n",
    "print(lin_pred)  "
   ]
  },
  {
   "cell_type": "code",
   "execution_count": 67,
   "id": "eb46ae50",
   "metadata": {},
   "outputs": [
    {
     "name": "stdout",
     "output_type": "stream",
     "text": [
      "[174878.07765118]\n"
     ]
    }
   ],
   "source": [
    "poly_pred = lin_regs2.predict(poly_regs.fit_transform([[6.5]]))  \n",
    "print(poly_pred)"
   ]
  },
  {
   "cell_type": "markdown",
   "id": "b3296cc8",
   "metadata": {},
   "source": [
    "### As we can see, the predicted output for the Polynomial Regression is [174878.07765118], which is much closer to real value hence, we can say that future employee is saying true. "
   ]
  },
  {
   "cell_type": "code",
   "execution_count": null,
   "id": "36df2c73",
   "metadata": {},
   "outputs": [],
   "source": []
  }
 ],
 "metadata": {
  "kernelspec": {
   "display_name": "Python 3 (ipykernel)",
   "language": "python",
   "name": "python3"
  },
  "language_info": {
   "codemirror_mode": {
    "name": "ipython",
    "version": 3
   },
   "file_extension": ".py",
   "mimetype": "text/x-python",
   "name": "python",
   "nbconvert_exporter": "python",
   "pygments_lexer": "ipython3",
   "version": "3.9.7"
  }
 },
 "nbformat": 4,
 "nbformat_minor": 5
}
